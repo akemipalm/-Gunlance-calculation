{
  "nbformat": 4,
  "nbformat_minor": 0,
  "metadata": {
    "colab": {
      "provenance": [],
      "mount_file_id": "1Mxp_gGnJAty6A7yIX5BBZaKtheqjRzWq",
      "authorship_tag": "ABX9TyME/u8pn9KmggSoT+2Mn7pE",
      "include_colab_link": true
    },
    "kernelspec": {
      "name": "python3",
      "display_name": "Python 3"
    },
    "language_info": {
      "name": "python"
    }
  },
  "cells": [
    {
      "cell_type": "markdown",
      "metadata": {
        "id": "view-in-github",
        "colab_type": "text"
      },
      "source": [
        "<a href=\"https://colab.research.google.com/github/akemipalm/-Gunlance-calculation/blob/main/%E3%82%AC%E3%83%B3%E3%83%A9%E3%83%B3%E3%82%B9%E8%A8%88%E7%AE%97%E3%83%84%E3%83%BC%E3%83%AB.ipynb\" target=\"_parent\"><img src=\"https://colab.research.google.com/assets/colab-badge.svg\" alt=\"Open In Colab\"/></a>"
      ]
    },
    {
      "cell_type": "code",
      "source": [
        "# 必要ライブラリの導入\n",
        "import pandas as pd\n",
        "from tabulate import tabulate\n",
        "\n",
        "# csvファイルの読み込みを行う\n",
        "df1 = pd.read_csv(\"/content/モンスター(v78).csv\", encoding=\"shift-jis\")\n",
        "df2 = pd.read_csv(\"/content/ガンランス(砲撃値).csv\")\n",
        "\n",
        "# 砲術レベルに応じた補正値が格納された配列\n",
        "gunnery = [1.1,1.15,1.2,1.3,1.4]\n",
        "\n",
        "# グレードと砲術レベルを入力する\n",
        "grade = input(\"ガンランスのグレード値を入力(G10なら10を入力) >> \")\n",
        "gunnery_level = input(\"砲術のスキルレベル値を入力(レベル4なら4を入力) >> \")\n",
        "print(\"武器のグレード >> \", grade)\n",
        "print(\"砲術のスキルレベル >>\", gunnery_level + \"\\n\")\n",
        "\n",
        "# csvからグレードに応じたダメージ値(溜め砲撃)を取り込む\n",
        "damage = df2.iloc[(int(grade) - 1),2]\n",
        "\n",
        "# 砲撃レベルに応じてダメージ値を補正する\n",
        "damage = damage * gunnery[int(gunnery_level) - 1]\n",
        "print(\"溜め砲撃1発当たりのダメージ量　>> \", damage)\n",
        "\n",
        "# 計算したいモンスター名を入力する\n",
        "monster_name = input(\"計算したいモンスターの名前を入力(プケプケならプケプケ) >> \")\n",
        "\n",
        "print(\"\\n\")\n",
        "\n",
        "# 名前が一致する行をフィルタリング\n",
        "filtered_df = df1[df1['名前'] == monster_name]\n",
        "\n",
        "# フィルタリング結果を確認\n",
        "if not filtered_df.empty:\n",
        "    # 各列に対して計算を実行し、新しいDataFrameを作成\n",
        "    result_dict = {'名前': monster_name}\n",
        "    for column in filtered_df.columns:\n",
        "        if column != '名前':  # 名前列を除外\n",
        "            result_dict[column] = round(filtered_df[column].values[0] / damage, 2)\n",
        "\n",
        "    # 新しいDataFrameを作成\n",
        "    result_df = pd.DataFrame([result_dict])\n",
        "\n",
        "    # 新しいDataFrameの内容を確認\n",
        "    print(\"星5～星10の討伐に必要な溜め砲撃数\")\n",
        "    print(\"※通常砲撃は 0.41 に相当します\")\n",
        "    print(tabulate(result_df, headers='keys', tablefmt='grid', showindex=False))\n",
        "\n",
        "    # 結果を新しいCSVファイルに保存\n",
        "    result_df.to_csv('result.csv', index=False)\n",
        "\n",
        "else:\n",
        "    # 名前が一致する行が存在しない場合の処理\n",
        "    print(f\"モンスター名 '{monster_name}' が見つかりませんでした。\")"
      ],
      "metadata": {
        "colab": {
          "base_uri": "https://localhost:8080/",
          "height": 387
        },
        "id": "9rYp0jzui_84",
        "outputId": "317340df-0f3c-4c90-b1c3-69b6ba95a580"
      },
      "execution_count": null,
      "outputs": [
        {
          "output_type": "error",
          "ename": "FileNotFoundError",
          "evalue": "[Errno 2] No such file or directory: '/content/モンスター(2024.7.11).csv'",
          "traceback": [
            "\u001b[0;31m---------------------------------------------------------------------------\u001b[0m",
            "\u001b[0;31mFileNotFoundError\u001b[0m                         Traceback (most recent call last)",
            "\u001b[0;32m<ipython-input-1-97ee67cc3b89>\u001b[0m in \u001b[0;36m<cell line: 6>\u001b[0;34m()\u001b[0m\n\u001b[1;32m      4\u001b[0m \u001b[0;34m\u001b[0m\u001b[0m\n\u001b[1;32m      5\u001b[0m \u001b[0;31m# csvファイルの読み込みを行う\u001b[0m\u001b[0;34m\u001b[0m\u001b[0;34m\u001b[0m\u001b[0m\n\u001b[0;32m----> 6\u001b[0;31m \u001b[0mdf1\u001b[0m \u001b[0;34m=\u001b[0m \u001b[0mpd\u001b[0m\u001b[0;34m.\u001b[0m\u001b[0mread_csv\u001b[0m\u001b[0;34m(\u001b[0m\u001b[0;34m\"/content/モンスター(2024.7.11).csv\"\u001b[0m\u001b[0;34m,\u001b[0m \u001b[0mencoding\u001b[0m\u001b[0;34m=\u001b[0m\u001b[0;34m\"shift-jis\"\u001b[0m\u001b[0;34m)\u001b[0m\u001b[0;34m\u001b[0m\u001b[0;34m\u001b[0m\u001b[0m\n\u001b[0m\u001b[1;32m      7\u001b[0m \u001b[0mdf2\u001b[0m \u001b[0;34m=\u001b[0m \u001b[0mpd\u001b[0m\u001b[0;34m.\u001b[0m\u001b[0mread_csv\u001b[0m\u001b[0;34m(\u001b[0m\u001b[0;34m\"/content/ガンランス(砲撃値).csv\"\u001b[0m\u001b[0;34m)\u001b[0m\u001b[0;34m\u001b[0m\u001b[0;34m\u001b[0m\u001b[0m\n\u001b[1;32m      8\u001b[0m \u001b[0;34m\u001b[0m\u001b[0m\n",
            "\u001b[0;32m/usr/local/lib/python3.10/dist-packages/pandas/io/parsers/readers.py\u001b[0m in \u001b[0;36mread_csv\u001b[0;34m(filepath_or_buffer, sep, delimiter, header, names, index_col, usecols, dtype, engine, converters, true_values, false_values, skipinitialspace, skiprows, skipfooter, nrows, na_values, keep_default_na, na_filter, verbose, skip_blank_lines, parse_dates, infer_datetime_format, keep_date_col, date_parser, date_format, dayfirst, cache_dates, iterator, chunksize, compression, thousands, decimal, lineterminator, quotechar, quoting, doublequote, escapechar, comment, encoding, encoding_errors, dialect, on_bad_lines, delim_whitespace, low_memory, memory_map, float_precision, storage_options, dtype_backend)\u001b[0m\n\u001b[1;32m    910\u001b[0m     \u001b[0mkwds\u001b[0m\u001b[0;34m.\u001b[0m\u001b[0mupdate\u001b[0m\u001b[0;34m(\u001b[0m\u001b[0mkwds_defaults\u001b[0m\u001b[0;34m)\u001b[0m\u001b[0;34m\u001b[0m\u001b[0;34m\u001b[0m\u001b[0m\n\u001b[1;32m    911\u001b[0m \u001b[0;34m\u001b[0m\u001b[0m\n\u001b[0;32m--> 912\u001b[0;31m     \u001b[0;32mreturn\u001b[0m \u001b[0m_read\u001b[0m\u001b[0;34m(\u001b[0m\u001b[0mfilepath_or_buffer\u001b[0m\u001b[0;34m,\u001b[0m \u001b[0mkwds\u001b[0m\u001b[0;34m)\u001b[0m\u001b[0;34m\u001b[0m\u001b[0;34m\u001b[0m\u001b[0m\n\u001b[0m\u001b[1;32m    913\u001b[0m \u001b[0;34m\u001b[0m\u001b[0m\n\u001b[1;32m    914\u001b[0m \u001b[0;34m\u001b[0m\u001b[0m\n",
            "\u001b[0;32m/usr/local/lib/python3.10/dist-packages/pandas/io/parsers/readers.py\u001b[0m in \u001b[0;36m_read\u001b[0;34m(filepath_or_buffer, kwds)\u001b[0m\n\u001b[1;32m    575\u001b[0m \u001b[0;34m\u001b[0m\u001b[0m\n\u001b[1;32m    576\u001b[0m     \u001b[0;31m# Create the parser.\u001b[0m\u001b[0;34m\u001b[0m\u001b[0;34m\u001b[0m\u001b[0m\n\u001b[0;32m--> 577\u001b[0;31m     \u001b[0mparser\u001b[0m \u001b[0;34m=\u001b[0m \u001b[0mTextFileReader\u001b[0m\u001b[0;34m(\u001b[0m\u001b[0mfilepath_or_buffer\u001b[0m\u001b[0;34m,\u001b[0m \u001b[0;34m**\u001b[0m\u001b[0mkwds\u001b[0m\u001b[0;34m)\u001b[0m\u001b[0;34m\u001b[0m\u001b[0;34m\u001b[0m\u001b[0m\n\u001b[0m\u001b[1;32m    578\u001b[0m \u001b[0;34m\u001b[0m\u001b[0m\n\u001b[1;32m    579\u001b[0m     \u001b[0;32mif\u001b[0m \u001b[0mchunksize\u001b[0m \u001b[0;32mor\u001b[0m \u001b[0miterator\u001b[0m\u001b[0;34m:\u001b[0m\u001b[0;34m\u001b[0m\u001b[0;34m\u001b[0m\u001b[0m\n",
            "\u001b[0;32m/usr/local/lib/python3.10/dist-packages/pandas/io/parsers/readers.py\u001b[0m in \u001b[0;36m__init__\u001b[0;34m(self, f, engine, **kwds)\u001b[0m\n\u001b[1;32m   1405\u001b[0m \u001b[0;34m\u001b[0m\u001b[0m\n\u001b[1;32m   1406\u001b[0m         \u001b[0mself\u001b[0m\u001b[0;34m.\u001b[0m\u001b[0mhandles\u001b[0m\u001b[0;34m:\u001b[0m \u001b[0mIOHandles\u001b[0m \u001b[0;34m|\u001b[0m \u001b[0;32mNone\u001b[0m \u001b[0;34m=\u001b[0m \u001b[0;32mNone\u001b[0m\u001b[0;34m\u001b[0m\u001b[0;34m\u001b[0m\u001b[0m\n\u001b[0;32m-> 1407\u001b[0;31m         \u001b[0mself\u001b[0m\u001b[0;34m.\u001b[0m\u001b[0m_engine\u001b[0m \u001b[0;34m=\u001b[0m \u001b[0mself\u001b[0m\u001b[0;34m.\u001b[0m\u001b[0m_make_engine\u001b[0m\u001b[0;34m(\u001b[0m\u001b[0mf\u001b[0m\u001b[0;34m,\u001b[0m \u001b[0mself\u001b[0m\u001b[0;34m.\u001b[0m\u001b[0mengine\u001b[0m\u001b[0;34m)\u001b[0m\u001b[0;34m\u001b[0m\u001b[0;34m\u001b[0m\u001b[0m\n\u001b[0m\u001b[1;32m   1408\u001b[0m \u001b[0;34m\u001b[0m\u001b[0m\n\u001b[1;32m   1409\u001b[0m     \u001b[0;32mdef\u001b[0m \u001b[0mclose\u001b[0m\u001b[0;34m(\u001b[0m\u001b[0mself\u001b[0m\u001b[0;34m)\u001b[0m \u001b[0;34m->\u001b[0m \u001b[0;32mNone\u001b[0m\u001b[0;34m:\u001b[0m\u001b[0;34m\u001b[0m\u001b[0;34m\u001b[0m\u001b[0m\n",
            "\u001b[0;32m/usr/local/lib/python3.10/dist-packages/pandas/io/parsers/readers.py\u001b[0m in \u001b[0;36m_make_engine\u001b[0;34m(self, f, engine)\u001b[0m\n\u001b[1;32m   1659\u001b[0m                 \u001b[0;32mif\u001b[0m \u001b[0;34m\"b\"\u001b[0m \u001b[0;32mnot\u001b[0m \u001b[0;32min\u001b[0m \u001b[0mmode\u001b[0m\u001b[0;34m:\u001b[0m\u001b[0;34m\u001b[0m\u001b[0;34m\u001b[0m\u001b[0m\n\u001b[1;32m   1660\u001b[0m                     \u001b[0mmode\u001b[0m \u001b[0;34m+=\u001b[0m \u001b[0;34m\"b\"\u001b[0m\u001b[0;34m\u001b[0m\u001b[0;34m\u001b[0m\u001b[0m\n\u001b[0;32m-> 1661\u001b[0;31m             self.handles = get_handle(\n\u001b[0m\u001b[1;32m   1662\u001b[0m                 \u001b[0mf\u001b[0m\u001b[0;34m,\u001b[0m\u001b[0;34m\u001b[0m\u001b[0;34m\u001b[0m\u001b[0m\n\u001b[1;32m   1663\u001b[0m                 \u001b[0mmode\u001b[0m\u001b[0;34m,\u001b[0m\u001b[0;34m\u001b[0m\u001b[0;34m\u001b[0m\u001b[0m\n",
            "\u001b[0;32m/usr/local/lib/python3.10/dist-packages/pandas/io/common.py\u001b[0m in \u001b[0;36mget_handle\u001b[0;34m(path_or_buf, mode, encoding, compression, memory_map, is_text, errors, storage_options)\u001b[0m\n\u001b[1;32m    857\u001b[0m         \u001b[0;32mif\u001b[0m \u001b[0mioargs\u001b[0m\u001b[0;34m.\u001b[0m\u001b[0mencoding\u001b[0m \u001b[0;32mand\u001b[0m \u001b[0;34m\"b\"\u001b[0m \u001b[0;32mnot\u001b[0m \u001b[0;32min\u001b[0m \u001b[0mioargs\u001b[0m\u001b[0;34m.\u001b[0m\u001b[0mmode\u001b[0m\u001b[0;34m:\u001b[0m\u001b[0;34m\u001b[0m\u001b[0;34m\u001b[0m\u001b[0m\n\u001b[1;32m    858\u001b[0m             \u001b[0;31m# Encoding\u001b[0m\u001b[0;34m\u001b[0m\u001b[0;34m\u001b[0m\u001b[0m\n\u001b[0;32m--> 859\u001b[0;31m             handle = open(\n\u001b[0m\u001b[1;32m    860\u001b[0m                 \u001b[0mhandle\u001b[0m\u001b[0;34m,\u001b[0m\u001b[0;34m\u001b[0m\u001b[0;34m\u001b[0m\u001b[0m\n\u001b[1;32m    861\u001b[0m                 \u001b[0mioargs\u001b[0m\u001b[0;34m.\u001b[0m\u001b[0mmode\u001b[0m\u001b[0;34m,\u001b[0m\u001b[0;34m\u001b[0m\u001b[0;34m\u001b[0m\u001b[0m\n",
            "\u001b[0;31mFileNotFoundError\u001b[0m: [Errno 2] No such file or directory: '/content/モンスター(2024.7.11).csv'"
          ]
        }
      ]
    },
    {
      "cell_type": "code",
      "source": [
        "# 必要ライブラリの導入\n",
        "import pandas as pd\n",
        "from tabulate import tabulate\n",
        "\n",
        "# csvファイルの読み込みを行う\n",
        "df1 = pd.read_csv(\"/content/モンスター(2024.7.11).csv\", encoding=\"shift-jis\")\n",
        "df2 = pd.read_csv(\"/content/ガンランス(砲撃値).csv\")\n",
        "\n",
        "# 砲術レベルに応じた補正値が格納された配列\n",
        "gunnery = [1.1, 1.15, 1.2, 1.3, 1.4]\n",
        "\n",
        "# グレードと砲術レベルを入力する\n",
        "grade = input(\"ガンランスのグレード値を入力(G10なら10を入力) >> \")\n",
        "gunnery_level = input(\"砲術のスキルレベル値を入力(レベル4なら4を入力) >> \")\n",
        "print(\"武器のグレード >> \", grade)\n",
        "print(\"砲術のスキルレベル >>\", gunnery_level + \"\\n\")\n",
        "\n",
        "# csvからグレードに応じたダメージ値(溜め砲撃)を取り込む\n",
        "damage = df2.iloc[(int(grade) - 1), 2]\n",
        "\n",
        "# 砲撃レベルに応じてダメージ値を補正する\n",
        "damage = damage * gunnery[int(gunnery_level) - 1]\n",
        "print(\"溜め砲撃1発当たりのダメージ量　>> \", damage)\n",
        "\n",
        "# 計算したいモンスター名を入力する\n",
        "monster_name = input(\"計算したいモンスターの名前を入力(プケプケならプケプケ) >> \")\n",
        "\n",
        "print(\"\\n\")\n",
        "\n",
        "# 名前が一致する行をフィルタリング\n",
        "filtered_df = df1[df1['名前'] == monster_name]\n",
        "\n",
        "# フィルタリング結果を確認\n",
        "if not filtered_df.empty:\n",
        "    # 各列に対して計算を実行し、結果を表示\n",
        "    print(\"星5～星10の討伐に必要な溜め砲撃数\")\n",
        "    print(\"※通常砲撃は 0.41 に相当します\")\n",
        "\n",
        "    result_dict = {'名前': monster_name}\n",
        "    for column in filtered_df.columns:\n",
        "        if column != '名前':  # 名前列を除外\n",
        "            result_dict[column] = round(filtered_df[column].values[0] / damage, 2)\n",
        "\n",
        "    # 結果を直接表形式で表示\n",
        "    result_list = [result_dict]\n",
        "    headers = result_list[0].keys()\n",
        "    rows = [list(result.values()) for result in result_list]\n",
        "\n",
        "    print(tabulate(rows, headers=headers, tablefmt='grid', showindex=False))\n",
        "else:\n",
        "    # 名前が一致する行が存在しない場合の処理\n",
        "    print(f\"モンスター名 '{monster_name}' が見つかりませんでした。\")\n"
      ],
      "metadata": {
        "colab": {
          "base_uri": "https://localhost:8080/"
        },
        "id": "I-DVyBNEAXQs",
        "outputId": "0e98ef3b-37cb-4f0b-a95f-3bcaf6a38a93"
      },
      "execution_count": 1,
      "outputs": [
        {
          "output_type": "stream",
          "name": "stdout",
          "text": [
            "ガンランスのグレード値を入力(G10なら10を入力) >> 10\n",
            "砲術のスキルレベル値を入力(レベル4なら4を入力) >> 4\n",
            "武器のグレード >>  10\n",
            "砲術のスキルレベル >> 4\n",
            "\n",
            "溜め砲撃1発当たりのダメージ量　>>  3278.6\n",
            "計算したいモンスターの名前を入力(プケプケならプケプケ) >> プケプケ\n",
            "\n",
            "\n",
            "星5～星10の討伐に必要な溜め砲撃数\n",
            "※通常砲撃は 0.41 に相当します\n",
            "+----------+-------+-------+-------+-------+-------+--------+\n",
            "| 名前     |   星5 |   星6 |   星7 |   星8 |   星9 |   星10 |\n",
            "+==========+=======+=======+=======+=======+=======+========+\n",
            "| プケプケ |  1.88 |  3.06 |  5.11 |  9.33 | 19.69 |  40.41 |\n",
            "+----------+-------+-------+-------+-------+-------+--------+\n"
          ]
        }
      ]
    },
    {
      "cell_type": "code",
      "source": [
        "from google.colab import drive\n",
        "drive.mount('/content/drive')"
      ],
      "metadata": {
        "id": "jKnGEa98aW3C",
        "colab": {
          "base_uri": "https://localhost:8080/"
        },
        "outputId": "925dc57e-3393-4a10-af19-8dc14088e958"
      },
      "execution_count": 2,
      "outputs": [
        {
          "output_type": "stream",
          "name": "stdout",
          "text": [
            "Drive already mounted at /content/drive; to attempt to forcibly remount, call drive.mount(\"/content/drive\", force_remount=True).\n"
          ]
        }
      ]
    }
  ]
}