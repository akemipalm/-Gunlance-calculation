{
  "cells": [
    {
      "cell_type": "code",
      "execution_count": 3,
      "metadata": {
        "colab": {
          "base_uri": "https://localhost:8080/",
          "height": 80
        },
        "id": "vxDRegcOSzb8",
        "outputId": "1131b448-642a-4fd4-8386-6037c6552430"
      },
      "outputs": [
        {
          "name": "stdout",
          "output_type": "stream",
          "text": [
            "Collecting tabulate\n",
            "  Downloading tabulate-0.9.0-py3-none-any.whl (35 kB)\n",
            "Installing collected packages: tabulate\n",
            "Successfully installed tabulate-0.9.0\n"
          ]
        }
      ],
      "source": [
        "#モジュールをインストール(tabulate)\n",
        "!pip install tabulate"
      ]
    },
    {
      "cell_type": "code",
      "execution_count": 4,
      "metadata": {
        "colab": {
          "base_uri": "https://localhost:8080/",
          "height": 387
        },
        "id": "9rYp0jzui_84",
        "outputId": "317340df-0f3c-4c90-b1c3-69b6ba95a580"
      },
      "outputs": [
        {
          "name": "stdout",
          "output_type": "stream",
          "text": [
            "武器のグレード >>  10\n",
            "砲術のスキルレベル >> 4\n",
            "\n",
            "溜め砲撃1発当たりのダメージ量　>>  3278.6\n",
            "\n",
            "\n",
            "星5～星10の討伐に必要な溜め砲撃数\n",
            "※通常砲撃は 0.41 に相当します\n",
            "+----------+-------+-------+-------+-------+-------+--------+\n",
            "| 名前     |   星5 |   星6 |   星7 |   星8 |   星9 |   星10 |\n",
            "+==========+=======+=======+=======+=======+=======+========+\n",
            "| プケプケ |  1.88 |  3.06 |  5.11 |  9.33 | 19.69 |  40.41 |\n",
            "+----------+-------+-------+-------+-------+-------+--------+\n"
          ]
        }
      ],
      "source": [
        "# 必要ライブラリの導入\n",
        "import pandas as pd\n",
        "from tabulate import tabulate\n",
        "\n",
        "# csvファイルの読み込みを行う\n",
        "df1 = pd.read_csv(\"csv/モンスター(2024.7.11).csv\", encoding=\"shift-jis\")\n",
        "df2 = pd.read_csv(\"csv/ガンランス(砲撃値).csv\")\n",
        "\n",
        "# 砲術レベルに応じた補正値が格納された配列\n",
        "gunnery = [1.1,1.15,1.2,1.3,1.4]\n",
        "\n",
        "# グレードと砲術レベルを入力する\n",
        "grade = input(\"ガンランスのグレード値を入力(G10なら10を入力) >> \")\n",
        "gunnery_level = input(\"砲術のスキルレベル値を入力(レベル4なら4を入力) >> \")\n",
        "print(\"武器のグレード >> \", grade)\n",
        "print(\"砲術のスキルレベル >>\", gunnery_level + \"\\n\")\n",
        "\n",
        "# csvからグレードに応じたダメージ値(溜め砲撃)を取り込む\n",
        "damage = df2.iloc[(int(grade) - 1),2]\n",
        "\n",
        "# 砲撃レベルに応じてダメージ値を補正する\n",
        "damage = damage * gunnery[int(gunnery_level) - 1]\n",
        "print(\"溜め砲撃1発当たりのダメージ量　>> \", damage)\n",
        "\n",
        "# 計算したいモンスター名を入力する\n",
        "monster_name = input(\"計算したいモンスターの名前を入力(プケプケならプケプケ) >> \")\n",
        "\n",
        "print(\"\\n\")\n",
        "\n",
        "# 名前が一致する行をフィルタリング\n",
        "filtered_df = df1[df1['名前'] == monster_name]\n",
        "\n",
        "# フィルタリング結果を確認\n",
        "if not filtered_df.empty:\n",
        "    # 各列に対して計算を実行し、新しいDataFrameを作成\n",
        "    result_dict = {'名前': monster_name}\n",
        "    for column in filtered_df.columns:\n",
        "        if column != '名前':  # 名前列を除外\n",
        "            result_dict[column] = round(filtered_df[column].values[0] / damage, 2)\n",
        "\n",
        "    # 新しいDataFrameを作成\n",
        "    result_df = pd.DataFrame([result_dict])\n",
        "\n",
        "    # 新しいDataFrameの内容を確認\n",
        "    print(\"星5～星10の討伐に必要な溜め砲撃数\")\n",
        "    print(\"※通常砲撃は 0.41 に相当します\")\n",
        "    print(tabulate(result_df, headers='keys', tablefmt='grid', showindex=False))\n",
        "\n",
        "    # 結果を新しいCSVファイルに保存\n",
        "    result_df.to_csv('result.csv', index=False)\n",
        "\n",
        "else:\n",
        "    # 名前が一致する行が存在しない場合の処理\n",
        "    print(f\"モンスター名 '{monster_name}' が見つかりませんでした。\")"
      ]
    }
  ],
  "metadata": {
    "colab": {
      "provenance": []
    },
    "kernelspec": {
      "display_name": "Python 3",
      "name": "python3"
    },
    "language_info": {
      "codemirror_mode": {
        "name": "ipython",
        "version": 3
      },
      "file_extension": ".py",
      "mimetype": "text/x-python",
      "name": "python",
      "nbconvert_exporter": "python",
      "pygments_lexer": "ipython3",
      "version": "3.9.12"
    }
  },
  "nbformat": 4,
  "nbformat_minor": 0
}
